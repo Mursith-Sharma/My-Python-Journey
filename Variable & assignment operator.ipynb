{
 "cells": [
  {
   "cell_type": "code",
   "execution_count": 1,
   "id": "4511698f-8bdd-42ea-85e0-f82e6c1fec77",
   "metadata": {},
   "outputs": [],
   "source": [
    "num1 = 10"
   ]
  },
  {
   "cell_type": "code",
   "execution_count": 3,
   "id": "87d8682e-2d36-4d19-bab1-d78f153e14d2",
   "metadata": {},
   "outputs": [
    {
     "name": "stdout",
     "output_type": "stream",
     "text": [
      "30\n"
     ]
    }
   ],
   "source": [
    "num1 =10\n",
    "num2 = 20\n",
    "add = num1 + num2\n",
    "print(add)"
   ]
  },
  {
   "cell_type": "code",
   "execution_count": 23,
   "id": "b7adf415-938f-408e-95f5-cce0aa6c26f7",
   "metadata": {},
   "outputs": [],
   "source": [
    "num1 = 100"
   ]
  },
  {
   "cell_type": "code",
   "execution_count": 25,
   "id": "e423297e-96a5-4926-9751-7d05d9162e4d",
   "metadata": {
    "scrolled": true
   },
   "outputs": [
    {
     "ename": "SyntaxError",
     "evalue": "invalid decimal literal (2518084633.py, line 1)",
     "output_type": "error",
     "traceback": [
      "\u001b[1;36m  Cell \u001b[1;32mIn[25], line 1\u001b[1;36m\u001b[0m\n\u001b[1;33m    1num = 10  ''' don't use number 1st '''\u001b[0m\n\u001b[1;37m    ^\u001b[0m\n\u001b[1;31mSyntaxError\u001b[0m\u001b[1;31m:\u001b[0m invalid decimal literal\n"
     ]
    }
   ],
   "source": [
    "1num = 10  ''' don't use number 1st '''"
   ]
  },
  {
   "cell_type": "code",
   "execution_count": 9,
   "id": "8bb26608-a574-4423-89ee-a0ba7f34a091",
   "metadata": {},
   "outputs": [
    {
     "name": "stdout",
     "output_type": "stream",
     "text": [
      "mursith\n"
     ]
    }
   ],
   "source": [
    "firstName = \"mursith\"\n",
    "print(firstName)"
   ]
  },
  {
   "cell_type": "code",
   "execution_count": 19,
   "id": "b2d269dc-a552-4552-a763-10f2c473728a",
   "metadata": {},
   "outputs": [
    {
     "name": "stdout",
     "output_type": "stream",
     "text": [
      "1020\n"
     ]
    }
   ],
   "source": [
    "num1 ='10'\n",
    "num2 = '20'       \n",
    "add = num1 + num2\n",
    "print(add)"
   ]
  },
  {
   "cell_type": "code",
   "execution_count": 13,
   "id": "5a0851fb-f18c-4a00-9e8b-90db985e638b",
   "metadata": {},
   "outputs": [
    {
     "name": "stdout",
     "output_type": "stream",
     "text": [
      "mursithsharma\n"
     ]
    }
   ],
   "source": [
    "firstName = \"mursith\"\n",
    "Lastname = \"sharma\"\n",
    "fullname = firstName + Lastname\n",
    "print(fullname)"
   ]
  },
  {
   "cell_type": "code",
   "execution_count": 27,
   "id": "b946d66d-cd83-4d48-8229-07b3ebe8ccf3",
   "metadata": {},
   "outputs": [
    {
     "name": "stdout",
     "output_type": "stream",
     "text": [
      "the addition of 2 numbers\n",
      "the number 1 is :  10\n",
      "the number 1 is :  20\n",
      "the answer is :  30\n"
     ]
    }
   ],
   "source": [
    "print(\"the addition of 2 numbers\")\n",
    "num1 = 10\n",
    "print(\"the number 1 is : \",num1)\n",
    "num2 = 20\n",
    "print(\"the number 1 is : \",num2)\n",
    "print(\"the answer is : \",num1 + num2)"
   ]
  },
  {
   "cell_type": "code",
   "execution_count": 31,
   "id": "df730129-dcab-4c81-85a0-b0aa9a0612c1",
   "metadata": {},
   "outputs": [
    {
     "name": "stdin",
     "output_type": "stream",
     "text": [
      "enter the number1:  20\n",
      "enter the number2:  40\n"
     ]
    },
    {
     "name": "stdout",
     "output_type": "stream",
     "text": [
      "2040\n"
     ]
    }
   ],
   "source": [
    "number1 = input(\"enter the number1: \") \n",
    "number2 = input(\"enter the number2: \") \n",
    "print(number1 + number2)"
   ]
  },
  {
   "cell_type": "code",
   "execution_count": 35,
   "id": "5eb6d70c-7800-465d-a673-685733269c95",
   "metadata": {},
   "outputs": [
    {
     "name": "stdin",
     "output_type": "stream",
     "text": [
      "enter the number1:  10\n",
      "enter the number2:  30\n"
     ]
    },
    {
     "name": "stdout",
     "output_type": "stream",
     "text": [
      "40\n"
     ]
    }
   ],
   "source": [
    "number1 = int (input(\"enter the number1: \"))\n",
    "number2 = int (input(\"enter the number2: \"))\n",
    "print(number1 + number2)"
   ]
  },
  {
   "cell_type": "code",
   "execution_count": null,
   "id": "c82cf192-bde9-4ad2-bfa1-1e539a9b0842",
   "metadata": {},
   "outputs": [],
   "source": []
  }
 ],
 "metadata": {
  "kernelspec": {
   "display_name": "Python [conda env:base] *",
   "language": "python",
   "name": "conda-base-py"
  },
  "language_info": {
   "codemirror_mode": {
    "name": "ipython",
    "version": 3
   },
   "file_extension": ".py",
   "mimetype": "text/x-python",
   "name": "python",
   "nbconvert_exporter": "python",
   "pygments_lexer": "ipython3",
   "version": "3.12.7"
  }
 },
 "nbformat": 4,
 "nbformat_minor": 5
}
