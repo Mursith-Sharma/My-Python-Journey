{
 "cells": [
  {
   "cell_type": "code",
   "execution_count": 47,
   "id": "440de568-61b5-4a16-8fa3-449ff87dd8cc",
   "metadata": {},
   "outputs": [],
   "source": [
    "from multi import multifunction"
   ]
  },
  {
   "cell_type": "code",
   "execution_count": 49,
   "id": "91f76fd2-8f65-4f37-865a-c59ed3b8b004",
   "metadata": {},
   "outputs": [
    {
     "name": "stdin",
     "output_type": "stream",
     "text": [
      "enter the number 23\n"
     ]
    },
    {
     "name": "stdout",
     "output_type": "stream",
     "text": [
      "odd number\n"
     ]
    }
   ],
   "source": [
    "multifunction.oddeven()"
   ]
  },
  {
   "cell_type": "code",
   "execution_count": 51,
   "id": "f641e58b-aae1-4987-a51d-680973366938",
   "metadata": {},
   "outputs": [
    {
     "name": "stdin",
     "output_type": "stream",
     "text": [
      "enter  the BMI index 33\n"
     ]
    },
    {
     "name": "stdout",
     "output_type": "stream",
     "text": [
      "over weight\n"
     ]
    }
   ],
   "source": [
    "multifunction.BMI()"
   ]
  },
  {
   "cell_type": "code",
   "execution_count": null,
   "id": "3dd1ca6f-619e-4de8-bef8-f63a2f72dca5",
   "metadata": {},
   "outputs": [],
   "source": []
  }
 ],
 "metadata": {
  "kernelspec": {
   "display_name": "Python [conda env:base] *",
   "language": "python",
   "name": "conda-base-py"
  },
  "language_info": {
   "codemirror_mode": {
    "name": "ipython",
    "version": 3
   },
   "file_extension": ".py",
   "mimetype": "text/x-python",
   "name": "python",
   "nbconvert_exporter": "python",
   "pygments_lexer": "ipython3",
   "version": "3.12.7"
  }
 },
 "nbformat": 4,
 "nbformat_minor": 5
}
