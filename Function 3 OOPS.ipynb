{
 "cells": [
  {
   "cell_type": "code",
   "execution_count": 23,
   "id": "fd70ba78-d435-4b96-8d4c-3bc73649f7e7",
   "metadata": {},
   "outputs": [],
   "source": [
    "def Agecat():\n",
    "    if(age<18):\n",
    "        print(\"children\")\n",
    "        cate = \"CHILDREN\"\n",
    "    elif(age<35):\n",
    "        print(\"adult\")\n",
    "        cate = \"ADULT\"\n",
    "    elif(age<50):\n",
    "        print(\"citizion\")\n",
    "        cate = \"CITIZION\"\n",
    "    else:\n",
    "        print(\"senior citizion\")\n",
    "        cate = \"SENIOR CITIZION\""
   ]
  },
  {
   "cell_type": "code",
   "execution_count": 25,
   "id": "6cf4179b-ccf6-4a3d-917b-0dfa4128e745",
   "metadata": {},
   "outputs": [
    {
     "name": "stdin",
     "output_type": "stream",
     "text": [
      "Enter your age: \n",
      " 33\n"
     ]
    },
    {
     "name": "stdout",
     "output_type": "stream",
     "text": [
      "adult\n"
     ]
    }
   ],
   "source": [
    "age = int (input(\"Enter your age: \\n\"))    #print panniyathal output kattum\n",
    "agecat = Agecat()"
   ]
  },
  {
   "cell_type": "code",
   "execution_count": 27,
   "id": "51428e49-1974-4535-9a72-52c2ee66da7a",
   "metadata": {},
   "outputs": [
    {
     "name": "stdout",
     "output_type": "stream",
     "text": [
      "None\n"
     ]
    }
   ],
   "source": [
    "print (agecat)                             # return illathathal output varathu  or type this only ->   agecat"
   ]
  },
  {
   "cell_type": "code",
   "execution_count": 29,
   "id": "cc23a097-fd1d-4355-86e5-90471c248ad7",
   "metadata": {},
   "outputs": [],
   "source": [
    "# NEXT ########################################################################################"
   ]
  },
  {
   "cell_type": "code",
   "execution_count": 37,
   "id": "32549e6d-790c-4e22-b252-fc70141e5bdc",
   "metadata": {},
   "outputs": [
    {
     "name": "stdin",
     "output_type": "stream",
     "text": [
      "Enter your age: \n",
      " 34\n"
     ]
    },
    {
     "name": "stdout",
     "output_type": "stream",
     "text": [
      "adult\n"
     ]
    }
   ],
   "source": [
    "age = int (input(\"Enter your age: \\n\"))\n",
    "agecat = Agecat()\n",
    "\n",
    "def Agecat():\n",
    "    if(age<18):\n",
    "        print(\"children\")\n",
    "        cate = \"CHILDREN\"\n",
    "    elif(age<35):\n",
    "        print(\"adult\")\n",
    "        cate = \"ADULT\"\n",
    "    elif(age<50):\n",
    "        print(\"citizion\")\n",
    "        cate = \"CITIZION\"\n",
    "    else:\n",
    "        print(\"senior citizion\")\n",
    "        cate = \"SENIOR CITIZION\"\n",
    "    return 0"
   ]
  },
  {
   "cell_type": "code",
   "execution_count": 42,
   "id": "e846648c-925d-4d69-aa08-b58e2a5a59ed",
   "metadata": {},
   "outputs": [
    {
     "name": "stdout",
     "output_type": "stream",
     "text": [
      "0\n"
     ]
    }
   ],
   "source": [
    "print (agecat) "
   ]
  },
  {
   "cell_type": "code",
   "execution_count": 1,
   "id": "9c633dd7-52c8-44a4-9374-31bd926df3de",
   "metadata": {},
   "outputs": [],
   "source": [
    "# NEXT ########################################################################################"
   ]
  },
  {
   "cell_type": "code",
   "execution_count": 27,
   "id": "97a96299-5fad-46b5-b314-65c36345d58f",
   "metadata": {},
   "outputs": [
    {
     "data": {
      "text/plain": [
       "9"
      ]
     },
     "execution_count": 27,
     "metadata": {},
     "output_type": "execute_result"
    }
   ],
   "source": [
    "def addition(num1 , num2):     #argument\n",
    "    add = num1 + num2\n",
    "    return add\n",
    "addition(5,4)    "
   ]
  },
  {
   "cell_type": "code",
   "execution_count": 15,
   "id": "914a73bd-5961-4fc8-946e-4484c9fc7198",
   "metadata": {},
   "outputs": [],
   "source": [
    "addd =addition(5,4)"
   ]
  },
  {
   "cell_type": "code",
   "execution_count": 17,
   "id": "15a35153-633a-4545-8d3e-8acb286b10d6",
   "metadata": {},
   "outputs": [
    {
     "data": {
      "text/plain": [
       "9"
      ]
     },
     "execution_count": 17,
     "metadata": {},
     "output_type": "execute_result"
    }
   ],
   "source": [
    "addd"
   ]
  },
  {
   "cell_type": "code",
   "execution_count": 21,
   "id": "410554ff-01e6-41d7-bcb1-eeb8b3715086",
   "metadata": {},
   "outputs": [],
   "source": [
    "# NEXT ########################################################################################"
   ]
  },
  {
   "cell_type": "code",
   "execution_count": 67,
   "id": "237b84e9-f761-44b8-ae8f-1e41dd4f7fd6",
   "metadata": {},
   "outputs": [
    {
     "name": "stdin",
     "output_type": "stream",
     "text": [
      "enter numer 1\n",
      " 2\n",
      "enter numer 2\n",
      " 5\n"
     ]
    },
    {
     "data": {
      "text/plain": [
       "10.0"
      ]
     },
     "execution_count": 67,
     "metadata": {},
     "output_type": "execute_result"
    }
   ],
   "source": [
    "def multiplication(N1,N2):\n",
    "    mul = N1*N2\n",
    "    return mul\n",
    "\n",
    "N1=float(input(\"enter numer 1\\n\"))\n",
    "N2=float(input(\"enter numer 2\\n\"))\n",
    "multiplication(N1,N2)"
   ]
  },
  {
   "cell_type": "code",
   "execution_count": 71,
   "id": "2c8e985b-8116-49c6-87cc-decdca76570b",
   "metadata": {},
   "outputs": [
    {
     "name": "stdin",
     "output_type": "stream",
     "text": [
      "enter numer 1\n",
      " 1\n",
      "enter numer 2\n",
      " 6\n"
     ]
    },
    {
     "data": {
      "text/plain": [
       "6.0"
      ]
     },
     "execution_count": 71,
     "metadata": {},
     "output_type": "execute_result"
    }
   ],
   "source": [
    "def multiplication(N1,N2):\n",
    "    mul = N1*N2\n",
    "    return mul\n",
    "\n",
    "N1=float(input(\"enter numer 1\\n\"))\n",
    "N2=float(input(\"enter numer 2\\n\"))\n",
    "result = multiplication(N1,N2)\n",
    "result                           # or --> print(\"Multiplication result:\", result)"
   ]
  },
  {
   "cell_type": "code",
   "execution_count": null,
   "id": "a29d9e62-406a-4b74-8eca-00c5dc9e1540",
   "metadata": {},
   "outputs": [],
   "source": []
  }
 ],
 "metadata": {
  "kernelspec": {
   "display_name": "Python [conda env:base] *",
   "language": "python",
   "name": "conda-base-py"
  },
  "language_info": {
   "codemirror_mode": {
    "name": "ipython",
    "version": 3
   },
   "file_extension": ".py",
   "mimetype": "text/x-python",
   "name": "python",
   "nbconvert_exporter": "python",
   "pygments_lexer": "ipython3",
   "version": "3.12.7"
  }
 },
 "nbformat": 4,
 "nbformat_minor": 5
}
