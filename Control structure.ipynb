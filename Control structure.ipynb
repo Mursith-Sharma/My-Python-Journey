{
 "cells": [
  {
   "cell_type": "code",
   "execution_count": 9,
   "id": "99e8780d-965e-4935-be33-8f18339100fb",
   "metadata": {},
   "outputs": [],
   "source": [
    "if():\n",
    "    print()"
   ]
  },
  {
   "cell_type": "code",
   "execution_count": 51,
   "id": "d5ffa204-605e-44a6-8f58-bf769c0dcb28",
   "metadata": {},
   "outputs": [
    {
     "name": "stdin",
     "output_type": "stream",
     "text": [
      "ente your age 18\n"
     ]
    }
   ],
   "source": [
    "age = input(\"ente your age\")"
   ]
  },
  {
   "cell_type": "code",
   "execution_count": 53,
   "id": "dfb2a2a0-dabd-48f2-ab7c-3df4425d22e1",
   "metadata": {},
   "outputs": [
    {
     "name": "stdout",
     "output_type": "stream",
     "text": [
      "other\n"
     ]
    },
    {
     "data": {
      "text/plain": [
       "'\\nUse = to set a value. \\nUse == to compare values.\\n'"
      ]
     },
     "execution_count": 53,
     "metadata": {},
     "output_type": "execute_result"
    }
   ],
   "source": [
    "if(age==18):\n",
    "    print(\"adult\")\n",
    "else:\n",
    "    print(\"other\")\n",
    "    \n",
    "\"\"\"\n",
    "Use = to set a value. \n",
    "Use == to compare values.\n",
    "\"\"\""
   ]
  },
  {
   "cell_type": "code",
   "execution_count": 33,
   "id": "29a46862-e45f-4d5f-958c-a0e92f7ac245",
   "metadata": {},
   "outputs": [
    {
     "name": "stdin",
     "output_type": "stream",
     "text": [
      "enter your age\n",
      " 2\n"
     ]
    },
    {
     "name": "stdout",
     "output_type": "stream",
     "text": [
      "other\n"
     ]
    }
   ],
   "source": [
    "age =int (input(\"enter your age\\n\"))\n",
    "if(age==18):\n",
    "    print(\"adult\")\n",
    "else:\n",
    "    print(\"other\")\n",
    "    "
   ]
  },
  {
   "cell_type": "code",
   "execution_count": 35,
   "id": "78982c90-fee4-4899-a35c-b8dace3a927f",
   "metadata": {},
   "outputs": [
    {
     "name": "stdin",
     "output_type": "stream",
     "text": [
      "enter your age\n",
      " 12\n"
     ]
    },
    {
     "name": "stdout",
     "output_type": "stream",
     "text": [
      "child\n"
     ]
    }
   ],
   "source": [
    "age =int (input(\"enter your age\\n\"))\n",
    "if(age>18):\n",
    "    print(\"adult\")\n",
    "else:\n",
    "    print(\"child\")"
   ]
  },
  {
   "cell_type": "code",
   "execution_count": 39,
   "id": "a7bc1c07-a566-4efa-8893-68b25973606d",
   "metadata": {},
   "outputs": [
    {
     "name": "stdin",
     "output_type": "stream",
     "text": [
      "enter your age\n",
      " 88\n"
     ]
    },
    {
     "name": "stdout",
     "output_type": "stream",
     "text": [
      "adult\n"
     ]
    }
   ],
   "source": [
    "age =int (input(\"enter your age\\n\"))\n",
    "if(age>18):\n",
    "    print(\"adult\")"
   ]
  },
  {
   "cell_type": "code",
   "execution_count": 57,
   "id": "38435c15-8bec-4ea2-9605-8f7e8d6affd5",
   "metadata": {},
   "outputs": [
    {
     "name": "stdin",
     "output_type": "stream",
     "text": [
      "enter your age\n",
      " 3\n"
     ]
    },
    {
     "name": "stdout",
     "output_type": "stream",
     "text": [
      "children\n"
     ]
    }
   ],
   "source": [
    "age =int (input(\"enter your age\\n\"))\n",
    "if(age<18):\n",
    "    print(\"children\")\n",
    "elif(age<35 & age>18):\n",
    "    print(\"adult\")\n",
    "elif(age<50 & age>35):\n",
    "    print(\"citizion\")\n",
    "else:\n",
    "    print(\"senior citizion\")"
   ]
  },
  {
   "cell_type": "code",
   "execution_count": 78,
   "id": "ac0cfa79-5142-4332-9e8d-7ed8aea577fe",
   "metadata": {},
   "outputs": [
    {
     "name": "stdout",
     "output_type": "stream",
     "text": [
      "10\n",
      "20\n",
      "30\n",
      "40\n"
     ]
    }
   ],
   "source": [
    "list =[10,20,30,40]\n",
    "for temp in list:\n",
    "    print(temp)"
   ]
  },
  {
   "cell_type": "code",
   "execution_count": 92,
   "id": "e77ea132-ca83-4fa4-82e0-9319f9ff8e27",
   "metadata": {},
   "outputs": [
    {
     "name": "stdout",
     "output_type": "stream",
     "text": [
      "children\n",
      "senior citizion\n",
      "senior citizion\n",
      "senior citizion\n",
      "senior citizion\n"
     ]
    }
   ],
   "source": [
    "list =[17,20,34,49,70]\n",
    "\n",
    "for age in list:\n",
    "    if(age<18):\n",
    "        print(\"children\")\n",
    "    elif(age<35 & age>18):\n",
    "        print(\"adult\")\n",
    "    elif(age<50 & age>35):\n",
    "        print(\"citizion\")\n",
    "    else:\n",
    "        print(\"senior citizion\")"
   ]
  },
  {
   "cell_type": "code",
   "execution_count": null,
   "id": "90592e04-b135-4e2f-a3c4-69728e8b8004",
   "metadata": {},
   "outputs": [],
   "source": []
  }
 ],
 "metadata": {
  "kernelspec": {
   "display_name": "Python [conda env:base] *",
   "language": "python",
   "name": "conda-base-py"
  },
  "language_info": {
   "codemirror_mode": {
    "name": "ipython",
    "version": 3
   },
   "file_extension": ".py",
   "mimetype": "text/x-python",
   "name": "python",
   "nbconvert_exporter": "python",
   "pygments_lexer": "ipython3",
   "version": "3.12.7"
  }
 },
 "nbformat": 4,
 "nbformat_minor": 5
}
