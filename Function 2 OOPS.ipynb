{
 "cells": [
  {
   "cell_type": "code",
   "execution_count": 117,
   "id": "8d20f3ae-d386-4648-9b8e-5e25d148fdb5",
   "metadata": {},
   "outputs": [
    {
     "name": "stdin",
     "output_type": "stream",
     "text": [
      "Enter your age: \n",
      " 30\n"
     ]
    }
   ],
   "source": [
    "age = int (input(\"Enter your age: \\n\"))"
   ]
  },
  {
   "cell_type": "code",
   "execution_count": 137,
   "id": "540d7c96-6c1e-48a9-97e7-592b6a507614",
   "metadata": {},
   "outputs": [],
   "source": [
    "def Agecat():\n",
    "    if(age<18):\n",
    "        print(\"children\")\n",
    "        cate = \"CHILDREN\"\n",
    "    elif(age<35):\n",
    "        print(\"adult\")\n",
    "        cate = \"ADULT\"\n",
    "    elif(age<50):\n",
    "        print(\"citizion\")\n",
    "        cate = \"CITIZION\"\n",
    "    else:\n",
    "        print(\"senior citizion\")\n",
    "        cate = \"SENIOR CITIZION\"\n",
    "    return cate"
   ]
  },
  {
   "cell_type": "code",
   "execution_count": 139,
   "id": "da2cb541-4992-42b2-9a04-70c6cbf37141",
   "metadata": {},
   "outputs": [
    {
     "name": "stdout",
     "output_type": "stream",
     "text": [
      "adult\n"
     ]
    },
    {
     "data": {
      "text/plain": [
       "'ADULT'"
      ]
     },
     "execution_count": 139,
     "metadata": {},
     "output_type": "execute_result"
    }
   ],
   "source": [
    "Agecat()  "
   ]
  },
  {
   "cell_type": "code",
   "execution_count": 141,
   "id": "376eb14e-fbbf-4cd1-9c13-6dceaa707dad",
   "metadata": {},
   "outputs": [
    {
     "name": "stdout",
     "output_type": "stream",
     "text": [
      "adult\n"
     ]
    }
   ],
   "source": [
    "agecat = Agecat()"
   ]
  },
  {
   "cell_type": "code",
   "execution_count": 143,
   "id": "6dcfda9b-9a49-4597-9d90-80ea4d7ea7db",
   "metadata": {},
   "outputs": [
    {
     "data": {
      "text/plain": [
       "'ADULT'"
      ]
     },
     "execution_count": 143,
     "metadata": {},
     "output_type": "execute_result"
    }
   ],
   "source": [
    "agecat"
   ]
  },
  {
   "cell_type": "code",
   "execution_count": 145,
   "id": "ac64f01f-7ec9-4d48-bb0f-0ba2927bcb1a",
   "metadata": {},
   "outputs": [
    {
     "name": "stdout",
     "output_type": "stream",
     "text": [
      "ADULT\n"
     ]
    }
   ],
   "source": [
    "print(agecat)"
   ]
  },
  {
   "cell_type": "code",
   "execution_count": 129,
   "id": "856a87f5-fffa-4a89-89f6-a7a23569dc18",
   "metadata": {},
   "outputs": [
    {
     "name": "stdout",
     "output_type": "stream",
     "text": [
      "<function Agecat at 0x00000213839BE340>\n"
     ]
    }
   ],
   "source": [
    "print(Agecat)"
   ]
  },
  {
   "cell_type": "code",
   "execution_count": null,
   "id": "8c8d6971-249f-4644-9066-e66c0473440c",
   "metadata": {},
   "outputs": [],
   "source": []
  }
 ],
 "metadata": {
  "kernelspec": {
   "display_name": "Python [conda env:base] *",
   "language": "python",
   "name": "conda-base-py"
  },
  "language_info": {
   "codemirror_mode": {
    "name": "ipython",
    "version": 3
   },
   "file_extension": ".py",
   "mimetype": "text/x-python",
   "name": "python",
   "nbconvert_exporter": "python",
   "pygments_lexer": "ipython3",
   "version": "3.12.7"
  }
 },
 "nbformat": 4,
 "nbformat_minor": 5
}
