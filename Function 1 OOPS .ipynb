{
 "cells": [
  {
   "cell_type": "code",
   "execution_count": 49,
   "id": "d51f9283-3bd3-4bf5-93e2-4fcfcf3a6bdf",
   "metadata": {},
   "outputs": [
    {
     "name": "stdout",
     "output_type": "stream",
     "text": [
      "children\n",
      "adult\n",
      "adult\n",
      "citizion\n",
      "senior citizion\n"
     ]
    }
   ],
   "source": [
    "list = [11,22,33,44,55]\n",
    "def Agecat():\n",
    "    for age in list:\n",
    "            if(age<18):\n",
    "              print(\"children\")\n",
    "            elif(age<35):\n",
    "              print(\"adult\")\n",
    "            elif(age<50):\n",
    "              print(\"citizion\")\n",
    "            else:\n",
    "              print(\"senior citizion\")\n",
    "Agecat()"
   ]
  },
  {
   "cell_type": "code",
   "execution_count": 47,
   "id": "28caee89-bcce-4e77-996a-0b3bc3e798cf",
   "metadata": {},
   "outputs": [
    {
     "name": "stdin",
     "output_type": "stream",
     "text": [
      "Enter your age: \n",
      " 23\n"
     ]
    },
    {
     "name": "stdout",
     "output_type": "stream",
     "text": [
      "adult\n"
     ]
    }
   ],
   "source": [
    "age = int (input(\"Enter your age: \\n\"))\n",
    "def Agecat():\n",
    "    if(age<18):\n",
    "        print(\"children\")\n",
    "    elif(age<35):\n",
    "        print(\"adult\")\n",
    "    elif(age<50):\n",
    "        print(\"citizion\")\n",
    "    else:\n",
    "        print(\"senior citizion\")\n",
    "Agecat()"
   ]
  },
  {
   "cell_type": "code",
   "execution_count": null,
   "id": "86e5bada-c5bf-4c49-b00c-2dba4a203322",
   "metadata": {},
   "outputs": [],
   "source": []
  }
 ],
 "metadata": {
  "kernelspec": {
   "display_name": "Python [conda env:base] *",
   "language": "python",
   "name": "conda-base-py"
  },
  "language_info": {
   "codemirror_mode": {
    "name": "ipython",
    "version": 3
   },
   "file_extension": ".py",
   "mimetype": "text/x-python",
   "name": "python",
   "nbconvert_exporter": "python",
   "pygments_lexer": "ipython3",
   "version": "3.12.7"
  }
 },
 "nbformat": 4,
 "nbformat_minor": 5
}
