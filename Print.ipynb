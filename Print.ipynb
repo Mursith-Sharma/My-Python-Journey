{
 "cells": [
  {
   "cell_type": "code",
   "execution_count": 1,
   "id": "c5691347-cfb4-49e6-87bd-5bfbec7e72ed",
   "metadata": {},
   "outputs": [
    {
     "name": "stdout",
     "output_type": "stream",
     "text": [
      "\n"
     ]
    }
   ],
   "source": [
    "print(\"\")"
   ]
  },
  {
   "cell_type": "code",
   "execution_count": 3,
   "id": "78fbdddc-23cf-43c8-9ab1-dad53e9bea07",
   "metadata": {},
   "outputs": [
    {
     "name": "stdout",
     "output_type": "stream",
     "text": [
      "prectice makes better\n"
     ]
    }
   ],
   "source": [
    "print(\"prectice makes better\")"
   ]
  },
  {
   "cell_type": "code",
   "execution_count": 5,
   "id": "88c9e31f-75f9-4c90-906c-49253920e546",
   "metadata": {},
   "outputs": [
    {
     "name": "stdout",
     "output_type": "stream",
     "text": [
      "hi buddy\n"
     ]
    }
   ],
   "source": [
    "print(\"hi buddy\")"
   ]
  },
  {
   "cell_type": "code",
   "execution_count": null,
   "id": "d8f4adf4-d45e-41d9-afe3-874ab160a23d",
   "metadata": {},
   "outputs": [],
   "source": []
  }
 ],
 "metadata": {
  "kernelspec": {
   "display_name": "Python [conda env:base] *",
   "language": "python",
   "name": "conda-base-py"
  },
  "language_info": {
   "codemirror_mode": {
    "name": "ipython",
    "version": 3
   },
   "file_extension": ".py",
   "mimetype": "text/x-python",
   "name": "python",
   "nbconvert_exporter": "python",
   "pygments_lexer": "ipython3",
   "version": "3.12.7"
  }
 },
 "nbformat": 4,
 "nbformat_minor": 5
}
