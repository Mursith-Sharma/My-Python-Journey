{
 "cells": [
  {
   "cell_type": "code",
   "execution_count": 13,
   "id": "4b4703a6-5a91-4d6e-a124-2d4e5c1ee5bd",
   "metadata": {
    "scrolled": true
   },
   "outputs": [
    {
     "name": "stdin",
     "output_type": "stream",
     "text": [
      "enter the number 23\n"
     ]
    },
    {
     "name": "stdout",
     "output_type": "stream",
     "text": [
      "odd number\n"
     ]
    },
    {
     "name": "stdin",
     "output_type": "stream",
     "text": [
      "enter  the BMI index 23\n"
     ]
    },
    {
     "name": "stdout",
     "output_type": "stream",
     "text": [
      "normal\n"
     ]
    }
   ],
   "source": [
    "class multifunction():\n",
    "    def oddeven():\n",
    "        num = int(input(\"enter the number\"))\n",
    "        \n",
    "        if(num%2 == 0):\n",
    "           print(\"even number\")\n",
    "        else:\n",
    "           print(\"odd number\")\n",
    "\n",
    "    def BMI():\n",
    "        BMI = int(input(\"enter  the BMI index\"))\n",
    "        if(BMI<18.4):\n",
    "            print(\"underweight\")\n",
    "        elif(18.5<= BMI <= 24.9):\n",
    "            print(\"normal\")\n",
    "        elif(25.0<= BMI <= 39.9):\n",
    "            print(\"over weight\")\n",
    "        else:\n",
    "            print(\"obese\")\n",
    "multifunction.oddeven()\n",
    "multifunction.BMI()"
   ]
  },
  {
   "cell_type": "code",
   "execution_count": null,
   "id": "2a265728-76b3-4b06-8a36-825e2030a1d5",
   "metadata": {},
   "outputs": [],
   "source": []
  }
 ],
 "metadata": {
  "kernelspec": {
   "display_name": "Python [conda env:base] *",
   "language": "python",
   "name": "conda-base-py"
  },
  "language_info": {
   "codemirror_mode": {
    "name": "ipython",
    "version": 3
   },
   "file_extension": ".py",
   "mimetype": "text/x-python",
   "name": "python",
   "nbconvert_exporter": "python",
   "pygments_lexer": "ipython3",
   "version": "3.12.7"
  }
 },
 "nbformat": 4,
 "nbformat_minor": 5
}
